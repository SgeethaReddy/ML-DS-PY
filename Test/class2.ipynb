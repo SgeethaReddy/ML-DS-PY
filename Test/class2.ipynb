{
 "cells": [
  {
   "cell_type": "code",
   "execution_count": 4,
   "metadata": {},
   "outputs": [],
   "source": [
    "class Employee :\n",
    "    def __init__(self , empID , empName):\n",
    "       \n",
    "        self.empID = empID\n",
    "        self.empName = empName \n",
    "\n",
    "        emp1 = Employee( 12321 , \"Thomas\")\n",
    "        emp2 = Employee( 1232 , \"Michal\")\n",
    "        emp3 = Employee( 12321 , \"Joha\")\n",
    "        del emp3.empID\n",
    "        del emp3\n",
    "        print(f\"this is id and name {emp1.empID} , {emp1.empName}\")"
   ]
  },
  {
   "cell_type": "code",
   "execution_count": null,
   "metadata": {},
   "outputs": [],
   "source": [
    "if we want to access methods without creating an object of a class we can use static method.object\n"
   ]
  },
  {
   "cell_type": "code",
   "execution_count": 34,
   "metadata": {},
   "outputs": [
    {
     "name": "stdout",
     "output_type": "stream",
     "text": [
      "model:Audi q3,year:2012,color:Green\n",
      "None\n",
      "model:Audi q3,year:2014,color:Red\n",
      "None\n"
     ]
    }
   ],
   "source": [
    "class Car :\n",
    "\n",
    "    color = \"Red\"\n",
    "    def __init__(self ,model , year):\n",
    "         \n",
    "         self.model = model  \n",
    "         self.year = year\n",
    "         self.color = Car.color # intialize the instance attribute with class attribute\n",
    "\n",
    "    def get_car_info(self):  \n",
    "        print(f\"model:{self.model},year:{self.year},color:{self.color}\")\n",
    "\n",
    "car1 = Car(\"Audi q3\", 2012)\n",
    "car2 = Car(\"Audi q3\", 2014)\n",
    "#changing the attribute car color\n",
    "car1.color=\"Green\"\n",
    "print(car1.get_car_info())\n",
    "print(car2.get_car_info())\n",
    "#1.colour is defined as RED first ex :color = \"Red\"\n",
    "#2 inside the --init the instance attribute color is intialized with value of attribute.\n",
    "#3 when car1.color=\"Green\" is excute it changed car1instance class attribute only other instances are not changed\n",
    "\n",
    "\n"
   ]
  },
  {
   "cell_type": "code",
   "execution_count": 26,
   "metadata": {},
   "outputs": [
    {
     "name": "stdout",
     "output_type": "stream",
     "text": [
      "Title:Harry pottor,Author:Harry,Price:$120\n",
      "None\n"
     ]
    }
   ],
   "source": [
    "class Book :\n",
    "    def __init__(self , title , author , price ):\n",
    "        self.title = title\n",
    "        self.author = author\n",
    "        self.price = price\n",
    "\n",
    "    def get_book_info(self):  \n",
    "        print(f\"Title:{self.title},Author:{self.author},Price:${self.price}\")\n",
    "\n",
    "\n",
    "book = Book(\"Harry pottor\",\"Harry\",120)\n",
    "\n",
    "print(book.get_book_info())       "
   ]
  }
 ],
 "metadata": {
  "kernelspec": {
   "display_name": "Python 3",
   "language": "python",
   "name": "python3"
  },
  "language_info": {
   "codemirror_mode": {
    "name": "ipython",
    "version": 3
   },
   "file_extension": ".py",
   "mimetype": "text/x-python",
   "name": "python",
   "nbconvert_exporter": "python",
   "pygments_lexer": "ipython3",
   "version": "3.8.3"
  }
 },
 "nbformat": 4,
 "nbformat_minor": 2
}
