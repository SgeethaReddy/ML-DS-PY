{
 "cells": [
  {
   "cell_type": "code",
   "execution_count": 39,
   "metadata": {},
   "outputs": [
    {
     "name": "stdout",
     "output_type": "stream",
     "text": [
      "this is id and name 12321 , Thomas\n",
      "this is id and name 1232 , Michal\n"
     ]
    }
   ],
   "source": [
    "#1. \n",
    "class Employee :\n",
    "    def __init__(self , empID , empName):\n",
    "       \n",
    "        self.empID = empID\n",
    "        self.empName = empName \n",
    "\n",
    "emp1 = Employee( 12321 , \"Thomas\")\n",
    "emp2 = Employee( 1232 , \"Michal\")\n",
    "emp3 = Employee( 12321 , \"Joha\")\n",
    "#2.\n",
    "del emp3.empID\n",
    "del emp3\n",
    "print(f\"this is id and name {emp1.empID} , {emp1.empName}\")\n",
    "print(f\"this is id and name {emp2.empID} , {emp2.empName}\")\n",
    "#print(f\"this is id and name {emp3.empID} , {emp3.empName}\") #give an error NameError: name 'emp3' is not defined"
   ]
  },
  {
   "cell_type": "code",
   "execution_count": 41,
   "metadata": {},
   "outputs": [
    {
     "data": {
      "text/plain": [
       "3"
      ]
     },
     "execution_count": 41,
     "metadata": {},
     "output_type": "execute_result"
    }
   ],
   "source": [
    "3#\n",
    "#if we want to access methods without creating an object of a class we can use static method.\n"
   ]
  },
  {
   "cell_type": "code",
   "execution_count": 34,
   "metadata": {},
   "outputs": [
    {
     "name": "stdout",
     "output_type": "stream",
     "text": [
      "model:Audi q3,year:2012,color:Green\n",
      "None\n",
      "model:Audi q3,year:2014,color:Red\n",
      "None\n"
     ]
    }
   ],
   "source": [
    "4#\n",
    "class Car :\n",
    "\n",
    "    color = \"Red\"\n",
    "    def __init__(self ,model , year):\n",
    "         \n",
    "         self.model = model  \n",
    "         self.year = year\n",
    "         self.color = Car.color # intialize the instance attribute with class attribute\n",
    "\n",
    "    def get_car_info(self):  \n",
    "        print(f\"model:{self.model},year:{self.year},color:{self.color}\")\n",
    "\n",
    "car1 = Car(\"Audi q3\", 2012)\n",
    "car2 = Car(\"Audi q3\", 2014)\n",
    "#changing the attribute car color\n",
    "car1.color=\"Green\"\n",
    "print(car1.get_car_info())\n",
    "print(car2.get_car_info())\n",
    "#1.colour is defined as RED first ex :color = \"Red\"\n",
    "#2 inside the --init the instance attribute color is intialized with value of attribute.\n",
    "#3 when car1.color=\"Green\" is excute it changed car1instance class attribute only other instances are not changed\n",
    "\n",
    "\n"
   ]
  },
  {
   "cell_type": "code",
   "execution_count": 26,
   "metadata": {},
   "outputs": [
    {
     "name": "stdout",
     "output_type": "stream",
     "text": [
      "Title:Harry pottor,Author:Harry,Price:$120\n",
      "None\n"
     ]
    }
   ],
   "source": [
    "5#\n",
    "class Book :\n",
    "    def __init__(self , title , author , price ):\n",
    "        self.title = title\n",
    "        self.author = author\n",
    "        self.price = price\n",
    "\n",
    "    def get_book_info(self):  \n",
    "        print(f\"Title:{self.title},Author:{self.author},Price:${self.price}\")\n",
    "book = Book(\"Harry pottor\",\"Harry\",120)\n",
    "print(book.get_book_info())       "
   ]
  },
  {
   "cell_type": "code",
   "execution_count": 40,
   "metadata": {},
   "outputs": [
    {
     "name": "stdout",
     "output_type": "stream",
     "text": [
      "The average is 30.0\n",
      "Name: Alice, Average Grade: 86.25\n"
     ]
    }
   ],
   "source": [
    "6.#Suppose you need  to calculate the average of a list of numbers. This operation doesn't naturally belong to a specific class, so a function is appropriate.\n",
    "def calculate_average(numbers):\n",
    "    if not numbers:\n",
    "        return 0\n",
    "    return sum(numbers) / len(numbers)\n",
    "\n",
    "# Example usage\n",
    "numbers = [10, 20, 30, 40, 50]\n",
    "average = calculate_average(numbers)\n",
    "print(f\"The average is{average}\")\n",
    "\n",
    "#Using a Method#\n",
    "\n",
    "#Suppose you have a `Student` class and you want to include a method to calculate the average of the student's grades. Here, it makes sense to use a method because the operation is closely related to the `Student` object.\n",
    "\n",
    "\n",
    "class Student:\n",
    "    def __init__(self, name, grades):\n",
    "        self.name = name\n",
    "        self.grades = grades\n",
    "\n",
    "    def calculate_average(self):\n",
    "        if not self.grades:\n",
    "            return 0\n",
    "        return sum(self.grades) / len(self.grades)\n",
    "\n",
    "    def get_student_info(self):\n",
    "        average = self.calculate_average()\n",
    "        return f\"Name:{self.name}, AverageGrade: {average:.2f}\"\n",
    "\n",
    "# Example usage\n",
    "student = Student(\"sangeetha\", [85, 90, 78, 92])\n",
    "print(student.get_student_info())\n",
    "\n",
    "\n",
    "#1. differnces\n",
    " #  - Function: Can be used anywhere in the code, independent of any class.\n",
    " ##  - Method: Is bound to the class and typically operates on the instance data.\n",
    "\n",
    "#2. Purpose:\n",
    " #  - Function: General-purpose operations, often utility functions.\n",
    " #  - Method: Operations specific to the data and behavior of class instances.\n",
    "\n",
    "### When to Use Each\n",
    "\n",
    "#- Use functions for operations that are not specific to any particular class and can be used in multiple contexts.\n",
    "#- Use methods for operations that are closely tied to the class and its data, and are intended to operate on instances of that class.\n"
   ]
  }
 ],
 "metadata": {
  "kernelspec": {
   "display_name": "Python 3",
   "language": "python",
   "name": "python3"
  },
  "language_info": {
   "codemirror_mode": {
    "name": "ipython",
    "version": 3
   },
   "file_extension": ".py",
   "mimetype": "text/x-python",
   "name": "python",
   "nbconvert_exporter": "python",
   "pygments_lexer": "ipython3",
   "version": "3.8.3"
  }
 },
 "nbformat": 4,
 "nbformat_minor": 2
}
