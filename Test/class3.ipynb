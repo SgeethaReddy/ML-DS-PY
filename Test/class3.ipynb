{
 "cells": [
  {
   "cell_type": "code",
   "execution_count": 6,
   "metadata": {},
   "outputs": [
    {
     "name": "stdout",
     "output_type": "stream",
     "text": [
      "odd number !\n"
     ]
    }
   ],
   "source": [
    "#Write a program that uses if statements to determine if a number is even or odd.\n",
    "#number = 85\n",
    "number = int(input(\"Enter the order tolta: \"))\n",
    "\n",
    "if number %2 ==  0:\n",
    "  print(\"Even number!\")\n",
    "else:\n",
    "  print(\"odd number !\")"
   ]
  },
  {
   "cell_type": "code",
   "execution_count": 9,
   "metadata": {},
   "outputs": [
    {
     "name": "stdout",
     "output_type": "stream",
     "text": [
      "Hi Kim, How are you.\n",
      "Hi Khole, How are you.\n",
      "Hi Kyle, How are you.\n"
     ]
    }
   ],
   "source": [
    "#Use a for loop to iterate over a list of names and print greetings for each person.\n",
    "names = [\"Kim\", \"Khole\", \"Kyle\"]\n",
    "for name in names:\n",
    "  print(f\"Hi {name}, How are you.\")"
   ]
  },
  {
   "cell_type": "code",
   "execution_count": 13,
   "metadata": {},
   "outputs": [
    {
     "name": "stdout",
     "output_type": "stream",
     "text": [
      "Guess a random number.  I'm thinking of a number between 0-100. Take a guess what it is\n",
      "Its higher than that. Guess again!\n",
      "Its higher than that. Guess again!\n",
      "Its higher than that. Guess again!\n",
      "Its higher than that. Guess again!\n",
      "Its higher than that. Guess again!\n",
      "You got it!\n"
     ]
    }
   ],
   "source": [
    "#Challenge yourself: Create a program that uses a while loop to guess a random number within a specific range\n",
    "randomNum = 50 #(0,100)\n",
    "print(\"Guess a random number. I'm thinking of a number between 0-100. Take a guess what it is\") \n",
    "num = int(input()) \n",
    "if(num == randomNum):\n",
    "    print(\"Wow, You're right!\")\n",
    "\n",
    "while (randomNum > num):\n",
    "    print('Its higher than that. Guess again!')\n",
    "    num = int(input())\n",
    "    while (num == randomNum):\n",
    "        print(\"You got it!\")\n",
    "        break\n",
    "\n",
    "while (randomNum < num):\n",
    "    print('Its lower than that! Guess again!')\n",
    "    num = int(input())\n",
    "    while (num == randomNum):\n",
    "        print(\"You got it!\")\n",
    "        break\n"
   ]
  },
  {
   "cell_type": "code",
   "execution_count": 26,
   "metadata": {},
   "outputs": [
    {
     "name": "stdout",
     "output_type": "stream",
     "text": [
      "low quantity products: \n",
      "Coffee Mug\n",
      "['T-Shirt', 'Coffee Mug', 'Notebook']\n",
      "formatted prices \n",
      "Name:T-Shirt, Price:$15.99, Quantity:100\n",
      "Name:Coffee Mug, Price:$7.50, Quantity:20\n",
      "Name:Notebook, Price:$8.99, Quantity:75\n"
     ]
    }
   ],
   "source": [
    "'''You're managing a list of products with names, prices, and stock quantities:\n",
    "\n",
    "     products = [\n",
    "                 {\"name\": \"T-Shirt\", \"price\": 15.99, \"quantity\": 100},\n",
    "                 {\"name\": \"Coffee Mug\", \"price\": 7.50, \"quantity\": 50},\n",
    "                 {\"name\": \"Notebook\", \"price\": 8.99, \"quantity\": 75},\n",
    "             ]\n",
    "Find Low Stock Products: Write a code block that iterates through the products list and identifies products with a stock quantity less than 20. Print the names of those products.\n",
    "\n",
    "Array Slicing and Price Formatting: Create a new list containing only the product names from the products list. Use array slicing to extract the desired elements. Then, format the prices in the products list to display them with two decimal places (e.g., $15.99).'''\n",
    "\n",
    "products = [\n",
    "                 {\"name\": \"T-Shirt\", \"price\": 15.99, \"quantity\": 100},\n",
    "                 {\"name\": \"Coffee Mug\", \"price\": 7.50, \"quantity\": 20},\n",
    "                 {\"name\": \"Notebook\", \"price\": 8.99, \"quantity\": 75},\n",
    "             ]\n",
    "\n",
    "\n",
    "#1. find low quantity products\n",
    "\n",
    "low_quantity = [product[\"name\"] for product in products if product[\"quantity\"] <= 20]\n",
    "\n",
    "print (\"low quantity products: \")\n",
    "for name in low_quantity:\n",
    "    print(name)\n",
    "\n",
    "\n",
    "\n",
    "#2 \n",
    "product_names = [product[\"name\"] for product in products]\n",
    "print(product_names)  \n",
    "\n",
    "print(\"formatted prices \")  \n",
    "\n",
    "for  product in products:\n",
    "    product[\"price\"] = f\"${product['price']:.2f}\"\n",
    "    print(f\"Name:{product['name']}, Price:{product['price']}, Quantity:{product['quantity']}\")\n",
    "\n"
   ]
  },
  {
   "cell_type": "code",
   "execution_count": 28,
   "metadata": {},
   "outputs": [
    {
     "name": "stdout",
     "output_type": "stream",
     "text": [
      "Address using + operator: crownridge\n",
      "Frico\n",
      "USA\n",
      "Address using f string: crownridge\n",
      "Frico\n",
      "USA\n"
     ]
    }
   ],
   "source": [
    "\"\"\"Create 3 variables to store street, city and country, now create address variable to store entire address. Use two ways of creating this variable, one using + operator and the other using f-string. Now Print the address in such a way that the street, city and country prints in a separate line\"\"\"\n",
    "\n",
    "city = 'Frico'\n",
    "street = 'crownridge'\n",
    "country = 'USA'\n",
    "\n",
    "full_address = street + '\\n' + city + '\\n' + country\n",
    "print(\"Address using + operator:\",full_address)\n",
    "full_address = f'{street}\\n{city}\\n{country}'\n",
    "print(\"Address using f string:\",full_address)\n",
    "\n",
    "\n"
   ]
  },
  {
   "cell_type": "code",
   "execution_count": 29,
   "metadata": {},
   "outputs": [
    {
     "name": "stdout",
     "output_type": "stream",
     "text": [
      "revolves\n",
      "sun\n"
     ]
    }
   ],
   "source": [
    "\"\"\"Create a variable to store the string \"Earth revolves around the sun\" Print \"revolves\" using slice operator Print \"sun\" using negative index\"\"\"\n",
    "\n",
    "string ='Earth revolves around the sun'\n",
    "\n",
    "print(string[6:14])\n",
    "print(string[-3:])"
   ]
  },
  {
   "cell_type": "code",
   "execution_count": 31,
   "metadata": {},
   "outputs": [
    {
     "name": "stdout",
     "output_type": "stream",
     "text": [
      "I eat 10 veggies and 5 fruits daily\n"
     ]
    }
   ],
   "source": [
    "\"\"\"Create two variables to store how many fruits and vegetables you eat in a day. Now Print \"I eat x veggies and y fruits daily\" where x and y presents vegetables and fruits that you eat everyday. Use python f string for this.\"\"\"\n",
    "\n",
    "fruits=5\n",
    "veggies=10\n",
    "print(f\"I eat {veggies} veggies and {fruits} fruits daily\")"
   ]
  },
  {
   "cell_type": "code",
   "execution_count": 33,
   "metadata": {},
   "outputs": [
    {
     "name": "stdout",
     "output_type": "stream",
     "text": [
      "Using two line replace: maine 10 samosa khaye\n"
     ]
    }
   ],
   "source": [
    "\"\"\"I have a string variable called s='maine 200 banana khaye'. This of course is a wrong statement, the correct statement is 'maine 10 samosa khaye'. Replace incorrect words in original strong with new ones and print the new string. Also try to do this in one line.\"\"\"\n",
    "\n",
    "str ='maine 200 banana khaye'\n",
    "str =str.replace('banana','samosa')\n",
    "str =str.replace('200','10')\n",
    "print(\"Using two line replace:\",s)"
   ]
  },
  {
   "cell_type": "code",
   "execution_count": 36,
   "metadata": {},
   "outputs": [
    {
     "name": "stdout",
     "output_type": "stream",
     "text": [
      "mumbai found in INDIA\n"
     ]
    }
   ],
   "source": [
    "\"\"\"Using following list of cities per country,\n",
    "\n",
    "     india = [\"mumbai\", \"banglore\", \"chennai\", \"delhi\"]\n",
    "     pakistan = [\"lahore\",\"karachi\",\"islamabad\"]\n",
    "     bangladesh = [\"dhaka\", \"khulna\", \"rangpur\"] \n",
    "     a. Write a program that asks user to enter a city name and it should tell which country the city belongs to\n",
    "\n",
    "b. Write a program that asks user to enter two cities and it tells you if they both are in same country or not. For example if I enter mumbai and chennai, it will print \"Both cities are in India\" but if I enter mumbai and dhaka it should print \"They don't belong to same country\"\"\"\n",
    "\n",
    "\n",
    "india = [\"mumbai\", \"banglore\", \"chennai\", \"delhi\"]\n",
    "pakistan = [\"lahore\",\"karachi\",\"islamabad\"]\n",
    "bangladesh = [\"dhaka\", \"khulna\", \"rangpur\"]\n",
    "city = input(\"enter a city name to find the country : \")\n",
    "\n",
    "\n",
    "if city in india:\n",
    "    print(f\"{city} found in INDIA\")\n",
    "elif city in pakistan:\n",
    "    print(f\"{city} found in PAKISTAN\")\n",
    "elif city in bangladesh:\n",
    "    print(f\"{city} found in BANGLADESH\")\n",
    "else:\n",
    "    print(\"No Country found of this city\")"
   ]
  },
  {
   "cell_type": "code",
   "execution_count": 37,
   "metadata": {},
   "outputs": [
    {
     "name": "stdout",
     "output_type": "stream",
     "text": [
      "Your sugar is normal\n"
     ]
    }
   ],
   "source": [
    "\"\"\"Write a python program that can tell you if your sugar is normal or not. Normal fasting level sugar range is 80 to 100. a. Ask user to enter his fasting sugar level b. If it is below 80 to 100 range then print that sugar is low c. If it is above 100 then print that it is high otherwise print that it is normal\"\"\"\n",
    "\n",
    "\n",
    "sugar = input(\"Please enter your fasting sugar level:\")\n",
    "sugar = float(sugar)\n",
    "if sugar<80:\n",
    "    print(\"Your sugar is low :)\")\n",
    "elif sugar>100:\n",
    "    print(\"Your sugar is high\")\n",
    "else:\n",
    "    print(\"Your sugar is normal\")"
   ]
  },
  {
   "cell_type": "code",
   "execution_count": 40,
   "metadata": {},
   "outputs": [
    {
     "name": "stdout",
     "output_type": "stream",
     "text": [
      "4 process 1 \n",
      "4 process 2\n",
      "4 process 3\n"
     ]
    }
   ],
   "source": [
    "\"\"\"After flipping a coin 10 times you got this result,\n",
    "\n",
    "result = [\"heads\",\"tails\",\"tails\",\"heads\",\"tails\",\"heads\",\"heads\",\"tails\",\"tails\",\"tails\"] Using for loop figure out how many times you got heads\n",
    "\n",
    "\"\"\"\n",
    "\n",
    "\n",
    "result = [\"heads\",\"tails\",\"tails\",\"heads\",\"tails\",\"heads\",\"heads\",\"tails\",\"tails\",\"tails\"]\n",
    "count =0\n",
    "\n",
    "# process  1\n",
    "for item in result:\n",
    "    if item == \"heads\":\n",
    "        count = count+1\n",
    "\n",
    "print(f\"{count} process 1 \")\n",
    "\n",
    "# process 2\n",
    "\n",
    "heads_total = result.count(\"heads\")\n",
    "print(f\"{heads_total} process 2\")\n",
    "\n",
    "# process 3  \n",
    "\n",
    "heads_total = sum(1 for flip in result if flip == \"heads\")\n",
    "\n",
    "print(f\"{heads_total} process 3\")"
   ]
  },
  {
   "cell_type": "code",
   "execution_count": 41,
   "metadata": {},
   "outputs": [
    {
     "name": "stdout",
     "output_type": "stream",
     "text": [
      "1\n",
      "9\n",
      "25\n",
      "49\n",
      "81\n"
     ]
    }
   ],
   "source": [
    "\"\"\"Print square of all numbers between 1 to 10 except even numbers\"\"\"\n",
    "for i in range(1,11):\n",
    "        if i % 2 == 0:\n",
    "            continue\n",
    "        print(i*i)"
   ]
  },
  {
   "cell_type": "code",
   "execution_count": 42,
   "metadata": {},
   "outputs": [
    {
     "name": "stdout",
     "output_type": "stream",
     "text": [
      "You spent 2340 in January\n"
     ]
    }
   ],
   "source": [
    "\"\"\"Your monthly expense list (from Jan to May) looks like this, expense_list = [2340, 2500, 2100, 3100, 2980] Write a program that asks you to enter an expense amount and program should tell you in which month that expense occurred. If expense is not found then it should print that as well.\"\"\"\n",
    "month_list = [\"January\", \"February\", \"March\", \"April\", \"May\"]\n",
    "expense_list = [2340, 2500, 2100, 3100, 2980]\n",
    "exp = input(\"Enter expense amount: \")\n",
    "exp = int(exp)\n",
    "\n",
    "month = -1\n",
    "for i in range(len(expense_list)):\n",
    "    if exp == expense_list[i]:\n",
    "        month = i\n",
    "        break\n",
    "\n",
    "if month != -1:\n",
    "    print(f'You spent {exp} in {month_list[month]}')\n",
    "else:\n",
    "    print(f'You didn\\'t spend {exp} in any month')\n"
   ]
  },
  {
   "cell_type": "code",
   "execution_count": 46,
   "metadata": {},
   "outputs": [
    {
     "name": "stdout",
     "output_type": "stream",
     "text": [
      "You ran 1 miles\n"
     ]
    },
    {
     "name": "stdout",
     "output_type": "stream",
     "text": [
      "You didn't finish 5 km race but You ran 1 miles\n"
     ]
    }
   ],
   "source": [
    "\"\"\"Lets say you are running a 5 km race. Write a program that,\n",
    "\n",
    "a. Upon completing each 1 km asks you \"are you tired?\"\n",
    "b. If you reply \"yes\" then it should break and print \"you didn't finish the race\"\n",
    "c. If you reply \"no\" then it should continue and ask \"are you tired\" on every km\n",
    "d. If you finish all 5 km then it should print congratulations message\"\"\"\n",
    "\n",
    "for i in range(5):\n",
    "    print(f\"You ran {i+1} miles\") # i starts with zero so adding 1\n",
    "    tired = input(\"Are you tired? \")\n",
    "    if tired == 'yes':\n",
    "        break\n",
    "\n",
    "if i == 4: # 4 index starts from 0\n",
    "    print(\"Hurray!You have finished 5 km race\")\n",
    "else:\n",
    "    print(f\"You didn't finish 5 km race but You ran {i+1} miles\")"
   ]
  },
  {
   "cell_type": "code",
   "execution_count": 53,
   "metadata": {},
   "outputs": [
    {
     "name": "stdout",
     "output_type": "stream",
     "text": [
      ". **\n"
     ]
    }
   ],
   "source": [
    "\"\"\"Write a program that prints following shape\n",
    ". **\n",
    "\n",
    "\"\"\"\n",
    "for i in range(1,2):\n",
    "    s = '.'\n",
    "    for j in range(i):\n",
    "        s += ' **'\n",
    "    print(s)"
   ]
  }
 ],
 "metadata": {
  "kernelspec": {
   "display_name": "Python 3",
   "language": "python",
   "name": "python3"
  },
  "language_info": {
   "codemirror_mode": {
    "name": "ipython",
    "version": 3
   },
   "file_extension": ".py",
   "mimetype": "text/x-python",
   "name": "python",
   "nbconvert_exporter": "python",
   "pygments_lexer": "ipython3",
   "version": "3.8.3"
  }
 },
 "nbformat": 4,
 "nbformat_minor": 2
}
