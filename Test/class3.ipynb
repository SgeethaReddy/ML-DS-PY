{
 "cells": [
  {
   "cell_type": "code",
   "execution_count": 6,
   "metadata": {},
   "outputs": [
    {
     "name": "stdout",
     "output_type": "stream",
     "text": [
      "odd number !\n"
     ]
    }
   ],
   "source": [
    "#Write a program that uses if statements to determine if a number is even or odd.\n",
    "#number = 85\n",
    "number = int(input(\"Enter the order tolta: \"))\n",
    "\n",
    "if number %2 ==  0:\n",
    "  print(\"Even number!\")\n",
    "else:\n",
    "  print(\"odd number !\")"
   ]
  },
  {
   "cell_type": "code",
   "execution_count": 9,
   "metadata": {},
   "outputs": [
    {
     "name": "stdout",
     "output_type": "stream",
     "text": [
      "Hi Kim, How are you.\n",
      "Hi Khole, How are you.\n",
      "Hi Kyle, How are you.\n"
     ]
    }
   ],
   "source": [
    "#Use a for loop to iterate over a list of names and print greetings for each person.\n",
    "names = [\"Kim\", \"Khole\", \"Kyle\"]\n",
    "for name in names:\n",
    "  print(f\"Hi {name}, How are you.\")"
   ]
  },
  {
   "cell_type": "code",
   "execution_count": 13,
   "metadata": {},
   "outputs": [
    {
     "name": "stdout",
     "output_type": "stream",
     "text": [
      "Guess a random number.  I'm thinking of a number between 0-100. Take a guess what it is\n",
      "Its higher than that. Guess again!\n",
      "Its higher than that. Guess again!\n",
      "Its higher than that. Guess again!\n",
      "Its higher than that. Guess again!\n",
      "Its higher than that. Guess again!\n",
      "You got it!\n"
     ]
    }
   ],
   "source": [
    "#Challenge yourself: Create a program that uses a while loop to guess a random number within a specific range\n",
    "randomNum = 50 #(0,100)\n",
    "print(\"Guess a random number. I'm thinking of a number between 0-100. Take a guess what it is\") \n",
    "num = int(input()) \n",
    "if(num == randomNum):\n",
    "    print(\"Wow, You're right!\")\n",
    "\n",
    "while (randomNum > num):\n",
    "    print('Its higher than that. Guess again!')\n",
    "    num = int(input())\n",
    "    while (num == randomNum):\n",
    "        print(\"You got it!\")\n",
    "        break\n",
    "\n",
    "while (randomNum < num):\n",
    "    print('Its lower than that! Guess again!')\n",
    "    num = int(input())\n",
    "    while (num == randomNum):\n",
    "        print(\"You got it!\")\n",
    "        break\n"
   ]
  },
  {
   "cell_type": "code",
   "execution_count": 22,
   "metadata": {},
   "outputs": [
    {
     "name": "stdout",
     "output_type": "stream",
     "text": [
      "low quantity products: \n",
      "Coffee Mug\n"
     ]
    }
   ],
   "source": [
    "'''You're managing a list of products with names, prices, and stock quantities:\n",
    "\n",
    "     products = [\n",
    "                 {\"name\": \"T-Shirt\", \"price\": 15.99, \"quantity\": 100},\n",
    "                 {\"name\": \"Coffee Mug\", \"price\": 7.50, \"quantity\": 50},\n",
    "                 {\"name\": \"Notebook\", \"price\": 8.99, \"quantity\": 75},\n",
    "             ]\n",
    "Find Low Stock Products: Write a code block that iterates through the products list and identifies products with a stock quantity less than 20. Print the names of those products.\n",
    "\n",
    "Array Slicing and Price Formatting: Create a new list containing only the product names from the products list. Use array slicing to extract the desired elements. Then, format the prices in the products list to display them with two decimal places (e.g., $15.99).'''\n",
    "\n",
    "products = [\n",
    "                 {\"name\": \"T-Shirt\", \"price\": 15.99, \"quantity\": 100},\n",
    "                 {\"name\": \"Coffee Mug\", \"price\": 7.50, \"quantity\": 20},\n",
    "                 {\"name\": \"Notebook\", \"price\": 8.99, \"quantity\": 75},\n",
    "             ]\n",
    "\n",
    "\n",
    "#1. find low quantity products\n",
    "\n",
    "low_quantity = [product[\"name\"] for product in products if product[\"quantity\"] <= 20]\n",
    "\n",
    "print (\"low quantity products: \")\n",
    "for name in low_quantity:\n",
    "    print(name)"
   ]
  }
 ],
 "metadata": {
  "kernelspec": {
   "display_name": "Python 3",
   "language": "python",
   "name": "python3"
  },
  "language_info": {
   "codemirror_mode": {
    "name": "ipython",
    "version": 3
   },
   "file_extension": ".py",
   "mimetype": "text/x-python",
   "name": "python",
   "nbconvert_exporter": "python",
   "pygments_lexer": "ipython3",
   "version": "3.8.3"
  }
 },
 "nbformat": 4,
 "nbformat_minor": 2
}
