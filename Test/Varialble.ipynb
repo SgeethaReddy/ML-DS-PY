{
 "cells": [
  {
   "cell_type": "code",
   "execution_count": 21,
   "metadata": {},
   "outputs": [
    {
     "ename": "SyntaxError",
     "evalue": "invalid syntax (2709188746.py, line 1)",
     "output_type": "error",
     "traceback": [
      "\u001b[0;36m  Cell \u001b[0;32mIn[21], line 1\u001b[0;36m\u001b[0m\n\u001b[0;31m    break = 5\u001b[0m\n\u001b[0m          ^\u001b[0m\n\u001b[0;31mSyntaxError\u001b[0m\u001b[0;31m:\u001b[0m invalid syntax\n"
     ]
    }
   ],
   "source": [
    "break = 5"
   ]
  },
  {
   "cell_type": "code",
   "execution_count": 74,
   "metadata": {},
   "outputs": [
    {
     "ename": "NameError",
     "evalue": "name 'd' is not defined",
     "output_type": "error",
     "traceback": [
      "\u001b[0;31m---------------------------------------------------------------------------\u001b[0m",
      "\u001b[0;31mNameError\u001b[0m                                 Traceback (most recent call last)",
      "Cell \u001b[0;32mIn[74], line 3\u001b[0m\n\u001b[1;32m      1\u001b[0m a \u001b[38;5;241m=\u001b[39m \u001b[38;5;241m1989\u001b[39m\n\u001b[1;32m      2\u001b[0m b \u001b[38;5;241m=\u001b[39m \u001b[38;5;241m2024\u001b[39m\n\u001b[0;32m----> 3\u001b[0m \u001b[43md\u001b[49m\n\u001b[1;32m      5\u001b[0m c \u001b[38;5;241m=\u001b[39m b\u001b[38;5;241m-\u001b[39ma\n\u001b[1;32m      6\u001b[0m \u001b[38;5;28mprint\u001b[39m (c)\n",
      "\u001b[0;31mNameError\u001b[0m: name 'd' is not defined"
     ]
    }
   ],
   "source": [
    "a = 1989\n",
    "b = 2024\n",
    "c = b-a\n",
    "print (c)"
   ]
  },
  {
   "cell_type": "markdown",
   "metadata": {},
   "source": []
  },
  {
   "cell_type": "code",
   "execution_count": 20,
   "metadata": {},
   "outputs": [
    {
     "name": "stdout",
     "output_type": "stream",
     "text": [
      "SangeethaReddy Muduganti\n"
     ]
    }
   ],
   "source": [
    "firstname = 'Sangeetha'\n",
    "lastname = ' Muduganti'\n",
    "middle = 'Reddy'\n",
    "fullname = firstname + middle + lastname \n",
    "print(fullname)"
   ]
  },
  {
   "cell_type": "code",
   "execution_count": 62,
   "metadata": {},
   "outputs": [
    {
     "ename": "SyntaxError",
     "evalue": "invalid syntax (1724626319.py, line 2)",
     "output_type": "error",
     "traceback": [
      "\u001b[0;36m  Cell \u001b[0;32mIn[62], line 2\u001b[0;36m\u001b[0m\n\u001b[0;31m    1record\u001b[0m\n\u001b[0m     ^\u001b[0m\n\u001b[0;31mSyntaxError\u001b[0m\u001b[0;31m:\u001b[0m invalid syntax\n"
     ]
    }
   ],
   "source": [
    "_nation \n",
    "1record\n",
    "record1 \n",
    "record_one\n",
    "record-one \n",
    "record"
   ]
  },
  {
   "cell_type": "code",
   "execution_count": 27,
   "metadata": {},
   "outputs": [
    {
     "name": "stdout",
     "output_type": "stream",
     "text": [
      "4489.599999999999\n"
     ]
    }
   ],
   "source": [
    "field_long = 92\n",
    "field_width =48.8\n",
    "field_total = field_long * field_width\n",
    "print (field_total)"
   ]
  },
  {
   "cell_type": "code",
   "execution_count": 31,
   "metadata": {},
   "outputs": [
    {
     "name": "stdout",
     "output_type": "stream",
     "text": [
      "6.59\n"
     ]
    }
   ],
   "source": [
    "total_chips = 9 \n",
    "each_packet_cost = 1.49\n",
    "total_cost = total_chips * each_packet_cost\n",
    "retunrs = 20 - total_cost\n",
    "print(retunrs)\n"
   ]
  },
  {
   "cell_type": "code",
   "execution_count": 34,
   "metadata": {},
   "outputs": [
    {
     "name": "stdout",
     "output_type": "stream",
     "text": [
      "Total cost to tiles replacement : 15125.0\n"
     ]
    }
   ],
   "source": [
    "length= 5.5\n",
    "cost_per_sqft = 500\n",
    "area = length ** 2\n",
    "total_cost = area  * cost_per_sqft\n",
    "print(\"Total cost to tiles replacement :\" ,total_cost )"
   ]
  },
  {
   "cell_type": "code",
   "execution_count": 35,
   "metadata": {},
   "outputs": [
    {
     "data": {
      "text/plain": [
       "'0b10001'"
      ]
     },
     "execution_count": 35,
     "metadata": {},
     "output_type": "execute_result"
    }
   ],
   "source": [
    "bin(17)"
   ]
  },
  {
   "cell_type": "code",
   "execution_count": 56,
   "metadata": {},
   "outputs": [
    {
     "name": "stdout",
     "output_type": "stream",
     "text": [
      "free shipping\n"
     ]
    }
   ],
   "source": [
    "order_amount = float(input(\"Enter the order tolta: \"))\n",
    "\n",
    "if order_amount > 50 :\n",
    "    print(\"free shipping\")\n",
    "else :\n",
    "  print(\" shipping charges apply\") "
   ]
  },
  {
   "cell_type": "code",
   "execution_count": 72,
   "metadata": {},
   "outputs": [],
   "source": [
    "age = int(input(\"Enter your age:\"))\n",
    "\n",
    "if age >= 65:\n",
    "    ticket_price = 10\n",
    "\n",
    "elif age < 12:\n",
    "    ticket_price = 8.00\n",
    "  \n",
    "else :\n",
    "     ticket_price = 12.50\n",
    "\n",
    "     #print (age)\n",
    "     print (\"the ticket price is \", ticket_price)"
   ]
  },
  {
   "cell_type": "code",
   "execution_count": 65,
   "metadata": {},
   "outputs": [
    {
     "name": "stdout",
     "output_type": "stream",
     "text": [
      "it is leap year\n"
     ]
    }
   ],
   "source": [
    "year = int(input(\"enter year\"))\n",
    "\n",
    "if (year%4 == 0 and year % 100 !=0 or year % 400 ==0) :\n",
    "    print(\"it is leap year\")\n",
    "else :\n",
    "   print(\"not a leap year\") "
   ]
  },
  {
   "cell_type": "code",
   "execution_count": 69,
   "metadata": {},
   "outputs": [
    {
     "name": "stdout",
     "output_type": "stream",
     "text": [
      "45.0 degree Farenheit is 7.222222222222222 degrees Celcisus\n"
     ]
    }
   ],
   "source": [
    "temp_value = float(input(\"enter the temp value\"))\n",
    "\n",
    "\n",
    "unit = (input(\"enter the unit value C or F\"))\n",
    "\n",
    "converted_temp = None\n",
    "\n",
    "\n",
    "if unit ==\"C\":\n",
    " converted_temp =(temp_value*9/5) +32\n",
    "\n",
    " print(f\"{temp_value} degree Celcisus is {converted_temp} degrees Farenheit\")\n",
    "\n",
    "elif unit ==\"F\":\n",
    "\n",
    " converted_temp =(temp_value-32) *5/9\n",
    "\n",
    " print(f\"{temp_value} degree Farenheit is {converted_temp} degrees Celcisus\")\n",
    "\n",
    "else:\n",
    "     print(\"unsupported unit please enter F for Farenheit or C for  Celcisus\")\n",
    "\n",
    "\n",
    "\n",
    "\n",
    "\n",
    "\n",
    "\n",
    "\n",
    "\n",
    "\n",
    "\n"
   ]
  }
 ],
 "metadata": {
  "interpreter": {
   "hash": "aee8b7b246df8f9039afb4144a1f6fd8d2ca17a180786b69acc140d282b71a49"
  },
  "kernelspec": {
   "display_name": "Python 3.8.3 64-bit",
   "language": "python",
   "name": "python3"
  },
  "language_info": {
   "codemirror_mode": {
    "name": "ipython",
    "version": 3
   },
   "file_extension": ".py",
   "mimetype": "text/x-python",
   "name": "python",
   "nbconvert_exporter": "python",
   "pygments_lexer": "ipython3",
   "version": "3.undefined.undefined"
  },
  "orig_nbformat": 4
 },
 "nbformat": 4,
 "nbformat_minor": 2
}
