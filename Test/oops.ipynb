{
 "cells": [
  {
   "cell_type": "code",
   "execution_count": 4,
   "metadata": {},
   "outputs": [
    {
     "name": "stdout",
     "output_type": "stream",
     "text": [
      "Total Marks: 433\n",
      "Average Score: 86.6\n"
     ]
    }
   ],
   "source": [
    "#Design a class Student with attributes like name, roll_number, and marks (list of scores). Include methods to calculate the total marks and average score.\n",
    "class Student:\n",
    "    def __init__(self, name, roll_number, marks):\n",
    "        self.name = name\n",
    "        self.roll_number = roll_number\n",
    "        self.marks = marks\n",
    "\n",
    "    def total_marks(self):\n",
    "        return sum(self.marks)\n",
    "\n",
    "    def average_score(self):\n",
    "        return self.total_marks() / len(self.marks)\n",
    "    \n",
    "    # Create an instance of the Student class\n",
    "    student = Student(\"John Doe\", 1, [85, 90, 78, 92, 88])\n",
    "\n",
    "    # Calculate and print the total marks\n",
    "    print(\"Total Marks:\", student.total_marks())\n",
    "\n",
    "   # Calculate and print the average score\n",
    "    print(\"Average Score:\", student.average_score())\n",
    "\n"
   ]
  }
 ],
 "metadata": {
  "kernelspec": {
   "display_name": "Python 3",
   "language": "python",
   "name": "python3"
  },
  "language_info": {
   "codemirror_mode": {
    "name": "ipython",
    "version": 3
   },
   "file_extension": ".py",
   "mimetype": "text/x-python",
   "name": "python",
   "nbconvert_exporter": "python",
   "pygments_lexer": "ipython3",
   "version": "3.8.3"
  }
 },
 "nbformat": 4,
 "nbformat_minor": 2
}
