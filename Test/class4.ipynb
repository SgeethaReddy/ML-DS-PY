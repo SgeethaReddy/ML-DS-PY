{
 "cells": [
  {
   "cell_type": "code",
   "execution_count": 2,
   "metadata": {},
   "outputs": [
    {
     "name": "stdout",
     "output_type": "stream",
     "text": [
      "Indices of the numbers that add up to 9: (0, 1)\n"
     ]
    }
   ],
   "source": [
    "\"\"\"Two Sum: Given an array of numbers and a target sum, find two numbers that add up to the target sum.\"\"\"\n",
    "\n",
    "def two_sum(nums, target):\n",
    "   indices = {}  # Dictionary to store numbers and their indices\n",
    "   for i, num in enumerate(nums):\n",
    "       complet = target - num\n",
    "       if complet in indices:\n",
    "           return indices[complet], i  # Return the indices of the two numbers\n",
    "       indices[num] = i  # Store the index of the current number\n",
    "   return None  # Return None if no pair is found\n",
    "\n",
    "# Example usage\n",
    "numbers = [2, 7, 11, 15]\n",
    "target_sum = 9\n",
    "result = two_sum(numbers, target_sum)\n",
    "\n",
    "if result:\n",
    "   print(f\"Indices of the numbers that add up to {target_sum}: {result}\")\n",
    "else:\n",
    "   print(\"No two numbers add up to the target sum.\")"
   ]
  },
  {
   "cell_type": "code",
   "execution_count": 10,
   "metadata": {},
   "outputs": [
    {
     "ename": "AttributeError",
     "evalue": "'list' object has no attribute 'length'",
     "output_type": "error",
     "traceback": [
      "\u001b[0;31m---------------------------------------------------------------------------\u001b[0m",
      "\u001b[0;31mAttributeError\u001b[0m                            Traceback (most recent call last)",
      "Cell \u001b[0;32mIn[10], line 24\u001b[0m\n\u001b[1;32m     22\u001b[0m \u001b[38;5;66;03m# Example usage\u001b[39;00m\n\u001b[1;32m     23\u001b[0m nums \u001b[38;5;241m=\u001b[39m [\u001b[38;5;241m1\u001b[39m, \u001b[38;5;241m1\u001b[39m, \u001b[38;5;241m2\u001b[39m, \u001b[38;5;241m2\u001b[39m, \u001b[38;5;241m3\u001b[39m, \u001b[38;5;241m4\u001b[39m, \u001b[38;5;241m4\u001b[39m, \u001b[38;5;241m5\u001b[39m]\n\u001b[0;32m---> 24\u001b[0m new_length \u001b[38;5;241m=\u001b[39m \u001b[43mremove_duplicates\u001b[49m\u001b[43m(\u001b[49m\u001b[43mnums\u001b[49m\u001b[43m)\u001b[49m\n\u001b[1;32m     25\u001b[0m \u001b[38;5;28mprint\u001b[39m(\u001b[38;5;124mf\u001b[39m\u001b[38;5;124m\"\u001b[39m\u001b[38;5;124mThe new length of the array without duplicates is: \u001b[39m\u001b[38;5;132;01m{\u001b[39;00mnew_length\u001b[38;5;132;01m}\u001b[39;00m\u001b[38;5;124m\"\u001b[39m)\n\u001b[1;32m     26\u001b[0m \u001b[38;5;28mprint\u001b[39m(\u001b[38;5;124mf\u001b[39m\u001b[38;5;124m\"\u001b[39m\u001b[38;5;124mThe array with duplicates removed: \u001b[39m\u001b[38;5;132;01m{\u001b[39;00mnums[:new_length]\u001b[38;5;132;01m}\u001b[39;00m\u001b[38;5;124m\"\u001b[39m)\n",
      "Cell \u001b[0;32mIn[10], line 11\u001b[0m, in \u001b[0;36mremove_duplicates\u001b[0;34m(nums)\u001b[0m\n\u001b[1;32m      8\u001b[0m slow \u001b[38;5;241m=\u001b[39m \u001b[38;5;241m0\u001b[39m\n\u001b[1;32m     10\u001b[0m \u001b[38;5;66;03m# Iterate with the fast pointer\u001b[39;00m\n\u001b[0;32m---> 11\u001b[0m \u001b[38;5;28;01mfor\u001b[39;00m fast \u001b[38;5;129;01min\u001b[39;00m \u001b[38;5;28mrange\u001b[39m(\u001b[38;5;241m1\u001b[39m, \u001b[43mnums\u001b[49m\u001b[38;5;241;43m.\u001b[39;49m\u001b[43mlength\u001b[49m):\n\u001b[1;32m     12\u001b[0m     \u001b[38;5;66;03m# If the current element is not a duplicate\u001b[39;00m\n\u001b[1;32m     13\u001b[0m     \u001b[38;5;28;01mif\u001b[39;00m nums[fast] \u001b[38;5;241m!=\u001b[39m nums[slow]:\n\u001b[1;32m     14\u001b[0m         \u001b[38;5;66;03m# Move the slow pointer to the next position\u001b[39;00m\n\u001b[1;32m     15\u001b[0m         slow \u001b[38;5;241m+\u001b[39m\u001b[38;5;241m=\u001b[39m \u001b[38;5;241m1\u001b[39m\n",
      "\u001b[0;31mAttributeError\u001b[0m: 'list' object has no attribute 'length'"
     ]
    }
   ],
   "source": [
    "\"\"\"Remove Duplicates from Sorted Array: Given a sorted array, remove duplicates in-place and return the new length of the array without duplicates.\"\"\"\n",
    "\n",
    "def remove_duplicates(nums):\n",
    "   if not nums:\n",
    "       return 0\n",
    "\n",
    "   # Initialize the slow pointer\n",
    "   slow = 0\n",
    "\n",
    "   # Iterate with the fast pointer\n",
    "   for fast in range(1, nums.length):\n",
    "       # If the current element is not a duplicate\n",
    "       if nums[fast] != nums[slow]:\n",
    "           # Move the slow pointer to the next position\n",
    "           slow += 1\n",
    "           # Update the element at the slow pointer\n",
    "           nums[slow] = nums[fast]\n",
    "\n",
    "   # The new length is the position of the slow pointer + 1\n",
    "   return slow + 1\n",
    "\n",
    "# Example usage\n",
    "nums = [1, 1, 2, 2, 3, 4, 4, 5]\n",
    "new_length = remove_duplicates(nums)\n",
    "print(f\"The new length of the array without duplicates is: {new_length}\")\n",
    "print(f\"The array with duplicates removed: {nums[:new_length]}\")\n"
   ]
  },
  {
   "cell_type": "code",
   "execution_count": 6,
   "metadata": {},
   "outputs": [
    {
     "name": "stdout",
     "output_type": "stream",
     "text": [
      "[1]\n",
      "[1, 1]\n",
      "[1, 2, 1]\n",
      "[1, 3, 3, 1]\n",
      "[1, 4, 6, 4, 1]\n"
     ]
    }
   ],
   "source": [
    "\"\"\"Pascals Triangle: Given an integer numRows, return a list of n pascals triangle rows (where n is the number of rows).\"\"\"\n",
    "\n",
    "def generate_pascals_triangle(numRows):\n",
    "   if numRows == 0:\n",
    "       return []\n",
    "\n",
    "   # Initialize the triangle with the first row\n",
    "   triangle = [[1]]\n",
    "\n",
    "   for i in range(1, numRows):\n",
    "       # Start each row with a 1\n",
    "       row = [1]\n",
    "       # Generate the middle values of the row\n",
    "       for j in range(1, i):\n",
    "           row.append(triangle[i - 1][j - 1] + triangle[i - 1][j])\n",
    "       # End each row with a 1\n",
    "       row.append(1)\n",
    "       # Append the generated row to the triangle\n",
    "       triangle.append(row)\n",
    "\n",
    "   return triangle\n",
    "\n",
    "# Example usage\n",
    "numRows = 5\n",
    "pascals_triangle = generate_pascals_triangle(numRows)\n",
    "for row in pascals_triangle:\n",
    "   print(row)"
   ]
  },
  {
   "cell_type": "code",
   "execution_count": 7,
   "metadata": {},
   "outputs": [
    {
     "name": "stdout",
     "output_type": "stream",
     "text": [
      "The product of array except self for [1, 2, 3, 4] is: (24, 12, 8, 6)\n"
     ]
    }
   ],
   "source": [
    "\"\"\"Product of Array Except Self: Given an integer array nums, return an array where the ith element is the product of all the elements in nums except the ith element.\"\"\"\n",
    "\n",
    "def product_except_self(nums):\n",
    "   n = len(nums)\n",
    "\n",
    "   # Initialize the result array with 1s\n",
    "   result = [1] * n\n",
    "\n",
    "   # First pass: calculate the product of all elements to the left of each index\n",
    "   left_product = 1\n",
    "   for i in range(n):\n",
    "       result[i] = left_product\n",
    "       left_product *= nums[i]\n",
    "\n",
    "   # Second pass: calculate the product of all elements to the right of each index\n",
    "   right_product = 1\n",
    "   for i in range(n - 1, -1, -1):\n",
    "       result[i] *= right_product\n",
    "       right_product *= nums[i]\n",
    "\n",
    "   # Convert the result list to a tuple before returning\n",
    "   return tuple(result)\n",
    "\n",
    "# Example usage\n",
    "nums = [1, 2, 3, 4]\n",
    "result = product_except_self(nums)\n",
    "print(f\"The product of array except self for {nums} is: {result}\")"
   ]
  },
  {
   "cell_type": "code",
   "execution_count": null,
   "metadata": {},
   "outputs": [],
   "source": [
    "\"\"\"Contains Duplicate: Given an integer array nums, return True if any element appears in the array more than once and False otherwise.\n",
    "\n",
    "Solution: Use a set to store seen numbers. If adding a new element to the set fails (meaning a duplicate exists), return True. Otherwise, the loop continues, and False is returned at the end.\"\"\"\n",
    "\n",
    "def contains_duplicate(nums):\n",
    "   seen = set()\n",
    "   for num in nums:\n",
    "       if num in seen:\n",
    "           return True\n",
    "       seen.add(num)\n",
    "   return False\n",
    "\n",
    "# Example usage\n",
    "nums1 = [1, 2, 3, 4]\n",
    "nums2 = [1, 2, 3, 1]\n",
    "\n",
    "print(f\"Does {nums1} contain duplicates? {contains_duplicate(nums1)}\")\n",
    "print(f\"Does {nums2} contain duplicates? {contains_duplicate(nums2)}\")"
   ]
  },
  {
   "cell_type": "code",
   "execution_count": 8,
   "metadata": {},
   "outputs": [
    {
     "name": "stdout",
     "output_type": "stream",
     "text": [
      "The intersection of [1, 2, 2, 1] and [2, 2] is: [2]\n",
      "The intersection of [4, 9, 5] and [9, 4, 9, 8, 4] is: [9, 4]\n"
     ]
    }
   ],
   "source": [
    "\"\"\"Intersection of Two Arrays: Given two integer arrays nums1 and nums2, return the intersection of the two arrays.\n",
    "\n",
    "Solution: Convert one of the arrays to a set and iterate through the other array. If an element exists in the set, it's part of the intersection, so add it to the result list. Finally, convert the list to a set to remove duplicates if necessary.\"\"\"\n",
    "def intersection(nums1, nums2):\n",
    "   # Convert nums1 to a set for fast lookup\n",
    "   set_nums1 = set(nums1)\n",
    "   # Initialize an empty set to store the intersection\n",
    "   result_set = set()\n",
    "\n",
    "   # Iterate through nums2 and check if the element is in set_nums1\n",
    "   for num in nums2:\n",
    "       if num in set_nums1:\n",
    "           result_set.add(num)\n",
    "\n",
    "   # Convert the result set to a list before returning\n",
    "   return list(result_set)\n",
    "\n",
    "# Example usage\n",
    "nums1 = [1, 2, 2, 1]\n",
    "nums2 = [2, 2]\n",
    "result = intersection(nums1, nums2)\n",
    "print(f\"The intersection of {nums1} and {nums2} is: {result}\")\n",
    "\n",
    "nums1 = [4, 9, 5]\n",
    "nums2 = [9, 4, 9, 8, 4]\n",
    "result = intersection(nums1, nums2)\n",
    "print(f\"The intersection of {nums1} and {nums2} is: {result}\")\n"
   ]
  },
  {
   "cell_type": "code",
   "execution_count": 9,
   "metadata": {},
   "outputs": [
    {
     "name": "stdout",
     "output_type": "stream",
     "text": [
      "The length of the longest substring without repeating characters in 'abcabcbb' is: 3\n",
      "The length of the longest substring without repeating characters in 'bbbbb' is: 1\n",
      "The length of the longest substring without repeating characters in 'pwwkew' is: 3\n",
      "The length of the longest substring without repeating characters in 'dvdf' is: 3\n"
     ]
    }
   ],
   "source": [
    "\"\"\"Longest Substring Without Repeating Characters: Given a string s, find the length of the longest substring without repeating characters.\n",
    "\n",
    "Solution: Use a dictionary to store the last seen index of each character. As you iterate through the string, keep track of the start index of the current substring. If you encounter a duplicate character, update the start index to be the max of the current start index and the last seen index of the duplicate character + 1 (to skip the duplicate). Keep track of the maximum length of the substring seen so far.\"\"\"\n",
    "\n",
    "def length_of_longest_substring(s):\n",
    "   # Dictionary to store the last seen index of each character\n",
    "   last_seen = {}\n",
    "   # Initialize start index of the current substring and max length\n",
    "   start = 0\n",
    "   max_length = 0\n",
    "\n",
    "   # Iterate through the string with an index\n",
    "   for i, char in enumerate(s):\n",
    "       # If the character is found in the dictionary and the start index is less than or equal to its last seen index\n",
    "       if char in last_seen and start <= last_seen[char]:\n",
    "           # Update the start index to be the last seen index of the character + 1\n",
    "           start = last_seen[char] + 1\n",
    "       else:\n",
    "           # Update the max length if the current substring length is greater\n",
    "           max_length = max(max_length, i - start + 1)\n",
    "\n",
    "       # Update the last seen index of the character\n",
    "       last_seen[char] = i\n",
    "\n",
    "   return max_length\n",
    "\n",
    "# Example usage\n",
    "s1 = \"abcabcbb\"\n",
    "s2 = \"bbbbb\"\n",
    "s3 = \"pwwkew\"\n",
    "s4 = \"dvdf\"\n",
    "\n",
    "print(f\"The length of the longest substring without repeating characters in '{s1}' is: {length_of_longest_substring(s1)}\")\n",
    "print(f\"The length of the longest substring without repeating characters in '{s2}' is: {length_of_longest_substring(s2)}\")\n",
    "print(f\"The length of the longest substring without repeating characters in '{s3}' is: {length_of_longest_substring(s3)}\")\n",
    "print(f\"The length of the longest substring without repeating characters in '{s4}' is: {length_of_longest_substring(s4)}\")"
   ]
  }
 ],
 "metadata": {
  "kernelspec": {
   "display_name": "Python 3",
   "language": "python",
   "name": "python3"
  },
  "language_info": {
   "codemirror_mode": {
    "name": "ipython",
    "version": 3
   },
   "file_extension": ".py",
   "mimetype": "text/x-python",
   "name": "python",
   "nbconvert_exporter": "python",
   "pygments_lexer": "ipython3",
   "version": "3.8.3"
  }
 },
 "nbformat": 4,
 "nbformat_minor": 2
}
